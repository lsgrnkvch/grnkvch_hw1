{
 "cells": [
  {
   "cell_type": "markdown",
   "metadata": {},
   "source": [
    "1 задание"
   ]
  },
  {
   "cell_type": "code",
   "execution_count": 1,
   "metadata": {
    "scrolled": true
   },
   "outputs": [
    {
     "name": "stdout",
     "output_type": "stream",
     "text": [
      "Введите фразу 1: привет\n",
      "Введите фразу 2: пока\n",
      "Фраза 1 длиннее фразы 2\n"
     ]
    }
   ],
   "source": [
    "phrase_1 = input(\"Введите фразу 1: \")\n",
    "phrase_2 = input(\"Введите фразу 2: \")\n",
    "if len(phrase_1) > len(phrase_2):\n",
    "    print(\"Фраза 1 длиннее фразы 2\")\n",
    "elif len(phrase_1) < len(phrase_2):\n",
    "    print(\"Фраза 2 длиннее фразы 1\")\n",
    "else:\n",
    "    print(\"Фразы одной длины\")"
   ]
  },
  {
   "cell_type": "markdown",
   "metadata": {},
   "source": [
    "2 задание"
   ]
  },
  {
   "cell_type": "code",
   "execution_count": 2,
   "metadata": {
    "scrolled": true
   },
   "outputs": [
    {
     "name": "stdout",
     "output_type": "stream",
     "text": [
      "Введите год: 1225\n",
      "Обычный год\n"
     ]
    }
   ],
   "source": [
    "year = int(input(\"Введите год: \"))\n",
    "if len(str(year)) != 4:\n",
    "    print(\"Неверный формат\")\n",
    "elif year % 4 == 0:\n",
    "    print(\"Високосный год\")\n",
    "else:\n",
    "    print(\"Обычный год\")"
   ]
  },
  {
   "cell_type": "markdown",
   "metadata": {},
   "source": [
    "3 задание"
   ]
  },
  {
   "cell_type": "code",
   "execution_count": 19,
   "metadata": {},
   "outputs": [
    {
     "name": "stdout",
     "output_type": "stream",
     "text": [
      "Введите день: 45\n",
      "Введите месяц в именительном падеже: Июнь\n",
      "Кажется, вы родились без знака зодиака. Не переживайте, с кем не бывает!\n"
     ]
    }
   ],
   "source": [
    "day_of_birth = int(input(\"Введите день: \"))\n",
    "month_of_birth = input(\"Введите месяц в именительном падеже: \")\n",
    "if (month_of_birth == 'Март' and 21 <= day_of_birth <= 31) or (month_of_birth == 'Апрель' and 1 <= day_of_birth <= 20):\n",
    "    print(\"Ваш знак зодиака: Овен\")\n",
    "elif (month_of_birth == 'Апрель' and 21 <= day_of_birth <= 30) or (month_of_birth == 'Май' and 1 <= day_of_birth <= 21):\n",
    "    print(\"Ваш знак зодиака: Телец\")\n",
    "elif (month_of_birth == 'Май' and 22 <= day_of_birth <= 31) or (month_of_birth == 'Июнь' and 1 <= day_of_birth <= 21):\n",
    "    print(\"Ваш знак зодиака: Близнецы\")\n",
    "elif (month_of_birth == 'Июнь' and 22 <= day_of_birth <= 30) or (month_of_birth == 'Июль' and 1 <= day_of_birth <= 22):\n",
    "    print(\"Ваш знак зодиака: Рак\")\n",
    "elif (month_of_birth == 'Июль' and 23 <= day_of_birth <= 31) or (month_of_birth == 'Август' and 1 <= day_of_birth <= 21):\n",
    "    print(\"Ваш знак зодиака: Лев\")\n",
    "elif (month_of_birth == 'Август' and 22 <= day_of_birth <= 31) or (month_of_birth == 'Сентябрь' and 1 <= day_of_birth <= 23):\n",
    "    print(\"Ваш знак зодиака: Дева\")\n",
    "elif (month_of_birth == 'Сентябрь' and 24 <= day_of_birth <= 30) or (month_of_birth == 'Октябрь' and 1 <= day_of_birth <= 23):\n",
    "    print(\"Ваш знак зодиака: Весы\")\n",
    "elif (month_of_birth == 'Октябрь' and 24 <= day_of_birth <= 31) or (month_of_birth == 'Ноябрь' and 1 <= day_of_birth <= 22):\n",
    "    print(\"Ваш знак зодиака: Скорпион\")\n",
    "elif (month_of_birth == 'Ноябрь' and 23 <= day_of_birth <= 30) or (month_of_birth == 'Декабрь' and 1 <= day_of_birth <= 22):\n",
    "    print(\"Ваш знак зодиака: Стрелец\")\n",
    "elif (month_of_birth == 'Декабрь' and 23 <= day_of_birth <= 31) or (month_of_birth == 'Январь' and 1 <= day_of_birth <= 20):\n",
    "    print(\"Ваш знак зодиака: Козерог\")\n",
    "elif (month_of_birth == 'Январь' and 21 <= day_of_birth <= 31) or (month_of_birth == 'Февраль' and 1 <= day_of_birth <= 19):\n",
    "    print(\"Ваш знак зодиака: Водолей\")\n",
    "elif (month_of_birth == 'Февраль' and 20 <= day_of_birth <= 29) or (month_of_birth == 'Март' and 1 <= day_of_birth <= 20):\n",
    "    print(\"Ваш знак зодиака: Рыбы\")\n",
    "else:\n",
    "    print(\"Кажется, вы родились без знака зодиака. Не переживайте, с кем не бывает!\")"
   ]
  },
  {
   "cell_type": "markdown",
   "metadata": {},
   "source": [
    "4 задание"
   ]
  },
  {
   "cell_type": "code",
   "execution_count": 6,
   "metadata": {},
   "outputs": [
    {
     "name": "stdout",
     "output_type": "stream",
     "text": [
      "Введите ширину в см: 15\n",
      "Введите длину в см: 224\n",
      "Введите высоту в см: 65\n",
      "Упаковка для лыж\n"
     ]
    }
   ],
   "source": [
    "width = int(input(\"Введите ширину в см: \"))\n",
    "length = int(input(\"Введите длину в см: \"))\n",
    "height = int(input(\"Введите высоту в см: \"))\n",
    "if width < 15 and length < 15 and height < 15:\n",
    "    print(\"Коробка №1\")\n",
    "elif length > 200:\n",
    "    print(\"Упаковка для лыж\")\n",
    "elif (15 < width < 50) or (15 < length < 50) or (15 < height < 50):\n",
    "    print(\"Коробка №2\")\n",
    "else:\n",
    "    print(\"Стандартная коробка №3\")"
   ]
  },
  {
   "cell_type": "markdown",
   "metadata": {},
   "source": [
    "5 задание"
   ]
  },
  {
   "cell_type": "code",
   "execution_count": 7,
   "metadata": {},
   "outputs": [
    {
     "name": "stdout",
     "output_type": "stream",
     "text": [
      "Введите номер билета: 156426\n",
      "Счастливый билет\n"
     ]
    }
   ],
   "source": [
    "number = str(input(\"Введите номер билета: \"))\n",
    "sum1 = int(number[0]) + int(number[1]) + int(number[2])\n",
    "sum2 = int(number[3]) + int(number[4]) + int(number[5])\n",
    "if sum1 == sum2:\n",
    "    print('Счастливый билет')\n",
    "else:\n",
    "    print('Несчастливый билет')"
   ]
  },
  {
   "cell_type": "markdown",
   "metadata": {},
   "source": [
    "6 задание"
   ]
  },
  {
   "cell_type": "code",
   "execution_count": 18,
   "metadata": {},
   "outputs": [
    {
     "name": "stdout",
     "output_type": "stream",
     "text": [
      "Ведите тип фигуры: Квадрат\n",
      "Упс! Я не знаю такие фигуры.\n"
     ]
    }
   ],
   "source": [
    "type = input(\"Ведите тип фигуры: \")\n",
    "if type == 'Круг':\n",
    "    radius = int(input(\"Ведите радиус круга: \"))\n",
    "    square_circle = 3.14 * (radius ** 2)\n",
    "    print('Площадь круга: ', square_circle)\n",
    "elif type == 'Треугольник':\n",
    "    side_A = int(input(\"Ведите длину стороны A: \"))\n",
    "    side_B = int(input(\"Ведите длину стороны B: \"))\n",
    "    side_C = int(input(\"Ведите длину стороны C: \"))\n",
    "    p = (side_A + side_B + side_C) / 2\n",
    "    square_triangle = (p * (p - side_A) * (p - side_B) * (p - side_C)) ** 0.5\n",
    "    print('Площадь треугольника: ', square_triangle)\n",
    "elif type == 'Прямоугольник':\n",
    "    side_A = int(input(\"Ведите длину стороны A: \"))\n",
    "    side_B = int(input(\"Ведите длину стороны B: \"))\n",
    "    square_rectangle = side_A * side_B\n",
    "    print('Площадь прямоугольника: ', square_rectangle)\n",
    "else:\n",
    "    print(\"Упс! Я не знаю такие фигуры.\")"
   ]
  }
 ],
 "metadata": {
  "kernelspec": {
   "display_name": "Python 3",
   "language": "python",
   "name": "python3"
  },
  "language_info": {
   "codemirror_mode": {
    "name": "ipython",
    "version": 3
   },
   "file_extension": ".py",
   "mimetype": "text/x-python",
   "name": "python",
   "nbconvert_exporter": "python",
   "pygments_lexer": "ipython3",
   "version": "3.8.5"
  }
 },
 "nbformat": 4,
 "nbformat_minor": 4
}
